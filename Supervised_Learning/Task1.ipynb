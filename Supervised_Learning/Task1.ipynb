{
 "cells": [
  {
   "cell_type": "markdown",
   "id": "9d473987",
   "metadata": {},
   "source": [
    "## KNN Classifier algorithm from scratch"
   ]
  },
  {
   "cell_type": "markdown",
   "id": "5fac9bb7",
   "metadata": {},
   "source": [
    "#### seperating data into feature matrix and label vector"
   ]
  },
  {
   "cell_type": "code",
   "execution_count": null,
   "id": "e2c31e80",
   "metadata": {},
   "outputs": [
    {
     "name": "stdout",
     "output_type": "stream",
     "text": [
      "Label encoding: {np.str_('Apple'): 0, np.str_('Banana'): 1, np.str_('Orange'): 2}\n"
     ]
    }
   ],
   "source": [
    "import numpy as np\n",
    "\n",
    "# Original dataset\n",
    "data = [\n",
    "    [150, 7.0, 1, 'Apple'],\n",
    "    [120, 6.5, 0, 'Banana'],\n",
    "    [180, 7.5, 2, 'Orange'],\n",
    "    [155, 7.2, 1, 'Apple'],\n",
    "    [110, 6.0, 0, 'Banana'],\n",
    "    [190, 7.8, 2, 'Orange'],\n",
    "    [145, 7.1, 1, 'Apple'],\n",
    "    [115, 6.3, 0, 'Banana']\n",
    "]\n",
    "#converting to numpy array\n",
    "data_np = np.array(data)\n",
    "X = data_np[:, :3].astype(float)\n",
    "y = data_np[:, 3]\n",
    "\n",
    "#encoding the \n",
    "categories, y_numeric = np.unique(y, return_inverse=True)\n",
    "label_map = {name: i for i, name in enumerate(categories)}\n",
    "reverse_label_map = {i: name for name, i in label_map.items()}\n",
    "print(\"Label encoding:\", label_map)"
   ]
  },
  {
   "cell_type": "markdown",
   "id": "6b1ec747",
   "metadata": {},
   "source": [
    "##### Wrirting eculidean distance function and KNN Classifier class"
   ]
  },
  {
   "cell_type": "code",
   "execution_count": null,
   "id": "79c8cd96",
   "metadata": {},
   "outputs": [],
   "source": [
    "def Euclidean_distance(x1, x2):\n",
    "    return np.sqrt(np.sum((x1 - x2) ** 2))\n",
    "\n",
    "# KNN Classifier\n",
    "class KNN_Classifier:\n",
    "    def __init__(self, k=3):\n",
    "        self.k = k\n",
    "\n",
    "    def fit(self, X, y):\n",
    "        self.X = X\n",
    "        self.y = y\n",
    "\n",
    "    def predict_one(self, x):\n",
    "        distances = []\n",
    "        for i in range(len(self.X)):\n",
    "            dis = Euclidean_distance(self.X[i], x)\n",
    "            distances.append((dis, self.y[i]))\n",
    "        distances.sort(key=lambda x: x[0])\n",
    "        k_nearest = distances[:self.k]\n",
    "        \n",
    "        # Count votes dynamically\n",
    "        class_votes = {}\n",
    "        for _, label in k_nearest:\n",
    "            class_votes[label] = class_votes.get(label, 0) + 1\n",
    "        \n",
    "        return max(class_votes, key=class_votes.get)\n",
    "\n",
    "    def predict(self, X_test):\n",
    "        return [self.predict_one(x) for x in X_test]\n"
   ]
  },
  {
   "cell_type": "markdown",
   "id": "af30731a",
   "metadata": {},
   "source": [
    "#### Checking KNN Algorithm for some test data"
   ]
  },
  {
   "cell_type": "code",
   "execution_count": 6,
   "id": "d1ad160b",
   "metadata": {},
   "outputs": [
    {
     "name": "stdout",
     "output_type": "stream",
     "text": [
      "Predictions: [np.str_('Banana'), np.str_('Apple'), np.str_('Orange')]\n"
     ]
    }
   ],
   "source": [
    "# Data for testing\n",
    "test_data = np.array([\n",
    "    [118, 6.2, 0],  # Expected: Banana\n",
    "    [160, 7.3, 1],  # Expected: Apple\n",
    "    [185, 7.7, 2]   # Expected: Orange\n",
    "])\n",
    "\n",
    "# Run KNN classifier\n",
    "knn = KNN_Classifier(k=3)\n",
    "knn.fit(X, y_numeric)\n",
    "predictions = knn.predict(test_data)\n",
    "\n",
    "#Decoding predictions\n",
    "predicted_labels = [reverse_label_map[i] for i in predictions]\n",
    "print(\"Predictions:\", predicted_labels)\n",
    "\n"
   ]
  }
 ],
 "metadata": {
  "kernelspec": {
   "display_name": "Python 3",
   "language": "python",
   "name": "python3"
  },
  "language_info": {
   "codemirror_mode": {
    "name": "ipython",
    "version": 3
   },
   "file_extension": ".py",
   "mimetype": "text/x-python",
   "name": "python",
   "nbconvert_exporter": "python",
   "pygments_lexer": "ipython3",
   "version": "3.12.1"
  }
 },
 "nbformat": 4,
 "nbformat_minor": 5
}
