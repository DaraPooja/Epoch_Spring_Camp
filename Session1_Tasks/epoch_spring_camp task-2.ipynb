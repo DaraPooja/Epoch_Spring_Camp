{
 "cells": [
  {
   "cell_type": "code",
   "execution_count": 17,
   "id": "d5adebb0-85ca-43d8-8012-1697b41f169a",
   "metadata": {},
   "outputs": [],
   "source": [
    "import math\n",
    "\n",
    "class Node:\n",
    "    def __init__(self,value=None,children=None,op=None,op_args=None):\n",
    "        self.value = value\n",
    "        self.children = children\n",
    "        self.op=op\n",
    "        self.op_args=op_args\n",
    "        \n",
    "    def __add__(self,other):\n",
    "        new_Node = Node()\n",
    "        new_Node.op=\"add\"\n",
    "        new_Node.op_args=None\n",
    "        if isinstance(other,Node):\n",
    "            new_Node.value=self.value+other.value\n",
    "            new_Node.children =[self,other]\n",
    "        else: \n",
    "            new_Node.value = self.value+other\n",
    "            new_Node.children =[self]\n",
    "            new_Node.op_args=other  \n",
    "        return new_Node\n",
    "    def __sub__(self,other):\n",
    "        new_Node = Node()\n",
    "        new_Node.op=\"sub\"\n",
    "        new_Node.op_args=None\n",
    "        if isinstance(other,Node):\n",
    "            new_Node.value=self.value-other.value\n",
    "            new_Node.children =[self,other]            \n",
    "        else:\n",
    "            new_Node.value = self.value-other\n",
    "            new_Node.children =[self]\n",
    "            new_Node.op_args=other            \n",
    "        return new_Node\n",
    "    def __mul__(self,other):\n",
    "        new_Node = Node()\n",
    "        new_Node.op=\"mul\"\n",
    "        new_Node.op_args=None\n",
    "        if isinstance(other,Node):\n",
    "            new_Node.value=self.value*other.value\n",
    "            new_Node.children =[self,other]\n",
    "            \n",
    "        else:\n",
    "            new_Node.value = self.value*other\n",
    "            new_Node.children =[self]\n",
    "            new_Node.op_args=other\n",
    "            \n",
    "        return new_Node\n",
    "    def __truediv__(self,other):\n",
    "        new_Node = Node()\n",
    "        new_Node.op=\"div\"\n",
    "        new_Node.op_args=None\n",
    "        if isinstance(other,Node):\n",
    "            new_Node.value=self.value/other.value\n",
    "            new_Node.children =[self,other]\n",
    "        else:\n",
    "            new_Node.value = self.value/other\n",
    "            new_Node.children =[self]\n",
    "            new_Node.op_args=other\n",
    "        return new_Node\n",
    "    def __pow__(self,other):\n",
    "        new_Node = Node()\n",
    "        new_Node.op=\"pow\"\n",
    "        new_Node.op_args=None\n",
    "        if isinstance(other,Node):\n",
    "            new_Node.value=self.value-other.value\n",
    "            new_Node.children =[self,other]\n",
    "        else:\n",
    "            new_Node.value = self.value-other\n",
    "            new_Node.children =[self]\n",
    "            new_Node.op_args=other\n",
    "        return new_Node\n",
    "    "
   ]
  },
  {
   "cell_type": "code",
   "execution_count": 19,
   "id": "a20cae3e-669b-41ab-bc1a-bf48f2b3889e",
   "metadata": {},
   "outputs": [
    {
     "name": "stdout",
     "output_type": "stream",
     "text": [
      "9\n"
     ]
    }
   ],
   "source": [
    "x = Node(1)\n",
    "y = Node(2)\n",
    "z = Node(3)\n",
    "\n",
    "a = (x+y) * z   # (1+3)*3 = 9\n",
    "print(a.value)\n"
   ]
  }
 ],
 "metadata": {
  "kernelspec": {
   "display_name": "Python 3 (ipykernel)",
   "language": "python",
   "name": "python3"
  },
  "language_info": {
   "codemirror_mode": {
    "name": "ipython",
    "version": 3
   },
   "file_extension": ".py",
   "mimetype": "text/x-python",
   "name": "python",
   "nbconvert_exporter": "python",
   "pygments_lexer": "ipython3",
   "version": "3.12.7"
  }
 },
 "nbformat": 4,
 "nbformat_minor": 5
}
